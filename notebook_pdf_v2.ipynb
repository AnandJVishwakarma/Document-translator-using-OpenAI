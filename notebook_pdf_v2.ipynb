{
 "cells": [
  {
   "cell_type": "code",
   "execution_count": 32,
   "metadata": {},
   "outputs": [],
   "source": [
    "import fitz  # PyMuPDF for PDF processing\n",
    "from docx import Document  # For Word document manipulation\n",
    "from PyPDF2 import PdfWriter  # To convert Word to PDF\n",
    "import openai  # For text translation\n",
    "import os"
   ]
  },
  {
   "cell_type": "code",
   "execution_count": null,
   "metadata": {},
   "outputs": [],
   "source": [
    "\n",
    "# Set up OpenAI API key\n",
    "openai.api_key = \"...\"\n",
    "\n",
    "os.environ['OPENAI_API_KEY'] = \"...\""
   ]
  },
  {
   "cell_type": "code",
   "execution_count": 34,
   "metadata": {},
   "outputs": [],
   "source": [
    "\n",
    "# Translate text using OpenAI\n",
    "def translate_text(text, target_language=\"French\"):\n",
    "    if not text.strip():\n",
    "        return text  # Skip empty strings\n",
    "\n",
    "    prompt = f\"\"\"\n",
    "    You are a professional translator. Translate the following text into {target_language}, maintaining formatting and tone.\n",
    "    \n",
    "    Text: \"{text}\"\n",
    "    Translation:\n",
    "    \"\"\"\n",
    "\n",
    "    from openai import Client\n",
    "    try:\n",
    "        client = Client()\n",
    "        response=client.chat.completions.create(\n",
    "            model=\"gpt-4\",  # Use \"gpt-4\" for better translations; \"gpt-3.5-turbo\" is also an option.\n",
    "            messages=[\n",
    "                {\"role\": \"system\", \"content\": \"You are an expert translator.\"},\n",
    "                {\"role\": \"user\", \"content\": prompt},\n",
    "            ],\n",
    "            max_tokens=500,\n",
    "            temperature=0.7,\n",
    "        )\n",
    "        print(\"Coversions: \", response.choices[0].message.content)\n",
    "        translated_text = response.choices[0].message.content\n",
    "        return translated_text\n",
    "    except Exception as e:\n",
    "        print(f\"Error translating text: {e}\")\n",
    "        return text"
   ]
  },
  {
   "cell_type": "code",
   "execution_count": 35,
   "metadata": {},
   "outputs": [],
   "source": [
    "\n",
    "# Step 1: Convert PDF to Word\n",
    "def convert_pdf_to_word(input_pdf, output_word):\n",
    "    doc = Document()\n",
    "    pdf_document = fitz.open(input_pdf)\n",
    "\n",
    "    for page_number in range(len(pdf_document)):\n",
    "        page = pdf_document[page_number]\n",
    "        text = page.get_text(\"text\")  # Extract plain text\n",
    "        if text.strip():  # Avoid empty pages\n",
    "            doc.add_paragraph(text)  # Add text to Word document\n",
    "            doc.add_paragraph(\"\")  # Add spacing between pages\n",
    "\n",
    "    pdf_document.close()\n",
    "    doc.save(output_word)\n",
    "    print(f\"Converted PDF to Word: {output_word}\")"
   ]
  },
  {
   "cell_type": "code",
   "execution_count": 36,
   "metadata": {},
   "outputs": [],
   "source": [
    "\n",
    "# Step 2: Translate Text in Word\n",
    "def translate_word(input_word, output_word, target_language=\"French\"):\n",
    "    doc = Document(input_word)\n",
    "    for paragraph in doc.paragraphs:\n",
    "        if paragraph.text.strip():  # Skip empty paragraphs\n",
    "            translated_text = translate_text(paragraph.text, target_language)\n",
    "            paragraph.text = translated_text\n",
    "    doc.save(output_word)\n",
    "    print(f\"Translated Word document saved to: {output_word}\")\n"
   ]
  },
  {
   "cell_type": "code",
   "execution_count": 37,
   "metadata": {},
   "outputs": [],
   "source": [
    "\n",
    "# Step 3: Convert Word back to PDF\n",
    "def convert_word_to_pdf(input_word, output_pdf):\n",
    "    from comtypes.client import CreateObject\n",
    "    word = CreateObject(\"Word.Application\")\n",
    "    doc = word.Documents.Open(os.path.abspath(input_word))\n",
    "    doc.SaveAs(os.path.abspath(output_pdf), FileFormat=17)  # FileFormat=17 for PDF\n",
    "    doc.Close()\n",
    "    word.Quit()\n",
    "    print(f\"Converted Word to PDF: {output_pdf}\")"
   ]
  },
  {
   "cell_type": "code",
   "execution_count": 38,
   "metadata": {},
   "outputs": [],
   "source": [
    "\n",
    "# Or alternative: using PyPDF2 if no Word application is available\n",
    "def alternative_word_to_pdf(input_word, output_pdf):\n",
    "    doc = Document(input_word)\n",
    "    pdf_writer = PdfWriter()\n",
    "\n",
    "    for paragraph in doc.paragraphs:\n",
    "        pdf_writer.add_blank_page()\n",
    "        pdf_writer.add_text(paragraph.text)\n",
    "\n",
    "    with open(output_pdf, 'wb') as f:\n",
    "        pdf_writer.write(f)\n",
    "    print(f\"Converted Word to PDF (Alternative): {output_pdf}\")\n"
   ]
  },
  {
   "cell_type": "code",
   "execution_count": 41,
   "metadata": {},
   "outputs": [],
   "source": [
    "\n",
    "# Full Workflow\n",
    "def pdf_to_translated_pdf(input_pdf, output_pdf, target_language=\"French\"):\n",
    "    temp_word = \"translated_files/temp.docx\"\n",
    "    translated_word = \"translated_files/translated.docx\"\n",
    "\n",
    "    # Step 1: Convert PDF to Word\n",
    "    convert_pdf_to_word(input_pdf, temp_word)\n",
    "\n",
    "    # Step 2: Translate the Word document\n",
    "    translate_word(temp_word, translated_word, target_language)\n",
    "\n",
    "    # Step 3: Convert Translated Word back to PDF\n",
    "    convert_word_to_pdf(translated_word, output_pdf)\n"
   ]
  },
  {
   "cell_type": "code",
   "execution_count": 42,
   "metadata": {},
   "outputs": [
    {
     "name": "stdout",
     "output_type": "stream",
     "text": [
      "Converted PDF to Word: translated_files/temp.docx\n",
      "Coversions:  \"Bonjour monde\n",
      "Python est le meilleur langage de programmation\n",
      "\"\n",
      "Coversions:  \"Mon nom est Anand Vishwakarma\n",
      "• Le développeur d'IA\"\n",
      "Coversions:  \"Il n'est plus nécessaire d'apprendre des langues étrangères. \n",
      "Grâce à l'IA, vous parlez dans votre téléphone, et il traduit.\n",
      "Alors, où que vous soyez dans le monde, les serveurs savent comment vous voulez votre \n",
      "café.\"\n",
      "Translated Word document saved to: translated_files/translated.docx\n",
      "Converted Word to PDF: translated_files/translated_example.pdf\n"
     ]
    }
   ],
   "source": [
    "\n",
    "# Example Usage\n",
    "input_pdf = \"sample_files/example.pdf\"\n",
    "output_pdf = \"translated_files/translated_example.pdf\"\n",
    "target_language = \"French\"\n",
    "\n",
    "pdf_to_translated_pdf(input_pdf, output_pdf, target_language)\n"
   ]
  },
  {
   "cell_type": "code",
   "execution_count": null,
   "metadata": {},
   "outputs": [],
   "source": []
  }
 ],
 "metadata": {
  "kernelspec": {
   "display_name": "Python 3",
   "language": "python",
   "name": "python3"
  },
  "language_info": {
   "codemirror_mode": {
    "name": "ipython",
    "version": 3
   },
   "file_extension": ".py",
   "mimetype": "text/x-python",
   "name": "python",
   "nbconvert_exporter": "python",
   "pygments_lexer": "ipython3",
   "version": "3.12.1"
  }
 },
 "nbformat": 4,
 "nbformat_minor": 2
}
